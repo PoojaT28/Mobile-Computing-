{
 "cells": [
  {
   "cell_type": "code",
   "execution_count": 1,
   "id": "f002220c-79d6-4f6e-8489-2e4f76db56c0",
   "metadata": {},
   "outputs": [
    {
     "name": "stdout",
     "output_type": "stream",
     "text": [
      "128 Bit Key =  10011000000110111000111011001101011100101000011001011001111011100010100110100000010101110000010010000111110011011010010000100101\n",
      "128 Random Bits Generated =  11000110111100001110001101010001110000101101101011100011100110100010001101111111010110101100000001111110100111110001111111101\n",
      "RES/SRES =  01001011011001100010110001101100\n"
     ]
    }
   ],
   "source": [
    "import random\n",
    "k=random.getrandbits(128)\n",
    "m=random.getrandbits(128)\n",
    "kb=bin(k)[2:]\n",
    "mb=bin(m)[2:]\n",
    "kbl=kb[0:64]\n",
    "kbr=kb[64:]\n",
    "mbl=mb[0:64]\n",
    "mbr=mb[64:]\n",
    "a1=int(kbl,2)^int(mbr,2)\n",
    "a2=int(kbr,2)^int(mbl,2)\n",
    "a3=a1^a2\n",
    "a4=bin(a3)[2:].zfill(64)\n",
    "a5=a4[0:32]\n",
    "a6=a4[32:]\n",
    "a7=int(a5,2)^int(a6,2)\n",
    "print(\"128 Bit Key = \",kb)\n",
    "print(\"128 Random Bits Generated = \",mb)\n",
    "print(\"RES/SRES = \",bin(a7)[2:].zfill(len(a5)))"
   ]
  },
  {
   "cell_type": "code",
   "execution_count": null,
   "id": "4757b3d8-a1d7-4fbe-8422-b2da8aa06f19",
   "metadata": {},
   "outputs": [],
   "source": []
  }
 ],
 "metadata": {
  "kernelspec": {
   "display_name": "Python 3 (ipykernel)",
   "language": "python",
   "name": "python3"
  },
  "language_info": {
   "codemirror_mode": {
    "name": "ipython",
    "version": 3
   },
   "file_extension": ".py",
   "mimetype": "text/x-python",
   "name": "python",
   "nbconvert_exporter": "python",
   "pygments_lexer": "ipython3",
   "version": "3.11.7"
  }
 },
 "nbformat": 4,
 "nbformat_minor": 5
}
